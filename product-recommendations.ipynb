{
 "metadata": {
  "language_info": {
   "codemirror_mode": {
    "name": "ipython",
    "version": 3
   },
   "file_extension": ".py",
   "mimetype": "text/x-python",
   "name": "python",
   "nbconvert_exporter": "python",
   "pygments_lexer": "ipython3",
   "version": "3.9.2"
  },
  "orig_nbformat": 2,
  "kernelspec": {
   "name": "python392jvsc74a57bd033dc6d49505b4536b6a128d9d7c879e1fa44477ad44947bbbe73093067fe6393",
   "display_name": "Python 3.9.2 64-bit"
  },
  "metadata": {
   "interpreter": {
    "hash": "33dc6d49505b4536b6a128d9d7c879e1fa44477ad44947bbbe73093067fe6393"
   }
  }
 },
 "nbformat": 4,
 "nbformat_minor": 2,
 "cells": [
  {
   "cell_type": "code",
   "execution_count": 1,
   "metadata": {},
   "outputs": [],
   "source": [
    "import pandas as pd"
   ]
  },
  {
   "source": [
    "## Loading Dataset"
   ],
   "cell_type": "markdown",
   "metadata": {}
  },
  {
   "cell_type": "code",
   "execution_count": 5,
   "metadata": {},
   "outputs": [
    {
     "output_type": "execute_result",
     "data": {
      "text/plain": [
       "  InvoiceNo StockCode                          Description  Quantity  \\\n",
       "0    536365    85123A   WHITE HANGING HEART T-LIGHT HOLDER         6   \n",
       "1    536365     71053                  WHITE METAL LANTERN         6   \n",
       "2    536365    84406B       CREAM CUPID HEARTS COAT HANGER         8   \n",
       "3    536365    84029G  KNITTED UNION FLAG HOT WATER BOTTLE         6   \n",
       "4    536365    84029E       RED WOOLLY HOTTIE WHITE HEART.         6   \n",
       "\n",
       "          InvoiceDate  UnitPrice  CustomerID         Country  \n",
       "0 2010-12-01 08:26:00       2.55     17850.0  United Kingdom  \n",
       "1 2010-12-01 08:26:00       3.39     17850.0  United Kingdom  \n",
       "2 2010-12-01 08:26:00       2.75     17850.0  United Kingdom  \n",
       "3 2010-12-01 08:26:00       3.39     17850.0  United Kingdom  \n",
       "4 2010-12-01 08:26:00       3.39     17850.0  United Kingdom  "
      ],
      "text/html": "<div>\n<style scoped>\n    .dataframe tbody tr th:only-of-type {\n        vertical-align: middle;\n    }\n\n    .dataframe tbody tr th {\n        vertical-align: top;\n    }\n\n    .dataframe thead th {\n        text-align: right;\n    }\n</style>\n<table border=\"1\" class=\"dataframe\">\n  <thead>\n    <tr style=\"text-align: right;\">\n      <th></th>\n      <th>InvoiceNo</th>\n      <th>StockCode</th>\n      <th>Description</th>\n      <th>Quantity</th>\n      <th>InvoiceDate</th>\n      <th>UnitPrice</th>\n      <th>CustomerID</th>\n      <th>Country</th>\n    </tr>\n  </thead>\n  <tbody>\n    <tr>\n      <th>0</th>\n      <td>536365</td>\n      <td>85123A</td>\n      <td>WHITE HANGING HEART T-LIGHT HOLDER</td>\n      <td>6</td>\n      <td>2010-12-01 08:26:00</td>\n      <td>2.55</td>\n      <td>17850.0</td>\n      <td>United Kingdom</td>\n    </tr>\n    <tr>\n      <th>1</th>\n      <td>536365</td>\n      <td>71053</td>\n      <td>WHITE METAL LANTERN</td>\n      <td>6</td>\n      <td>2010-12-01 08:26:00</td>\n      <td>3.39</td>\n      <td>17850.0</td>\n      <td>United Kingdom</td>\n    </tr>\n    <tr>\n      <th>2</th>\n      <td>536365</td>\n      <td>84406B</td>\n      <td>CREAM CUPID HEARTS COAT HANGER</td>\n      <td>8</td>\n      <td>2010-12-01 08:26:00</td>\n      <td>2.75</td>\n      <td>17850.0</td>\n      <td>United Kingdom</td>\n    </tr>\n    <tr>\n      <th>3</th>\n      <td>536365</td>\n      <td>84029G</td>\n      <td>KNITTED UNION FLAG HOT WATER BOTTLE</td>\n      <td>6</td>\n      <td>2010-12-01 08:26:00</td>\n      <td>3.39</td>\n      <td>17850.0</td>\n      <td>United Kingdom</td>\n    </tr>\n    <tr>\n      <th>4</th>\n      <td>536365</td>\n      <td>84029E</td>\n      <td>RED WOOLLY HOTTIE WHITE HEART.</td>\n      <td>6</td>\n      <td>2010-12-01 08:26:00</td>\n      <td>3.39</td>\n      <td>17850.0</td>\n      <td>United Kingdom</td>\n    </tr>\n  </tbody>\n</table>\n</div>"
     },
     "metadata": {},
     "execution_count": 5
    }
   ],
   "source": [
    "df = pd.read_excel('Online Retail.xlsx')\n",
    "df.head()"
   ]
  },
  {
   "source": [
    "## Data Processing"
   ],
   "cell_type": "markdown",
   "metadata": {}
  },
  {
   "source": [
    "### Eliminating data with item returns (negative quantity)\n"
   ],
   "cell_type": "markdown",
   "metadata": {}
  },
  {
   "cell_type": "code",
   "execution_count": 12,
   "metadata": {},
   "outputs": [],
   "source": [
    "df = df.loc[df['Quantity'] > 0]"
   ]
  },
  {
   "source": [
    "### Identify null components"
   ],
   "cell_type": "markdown",
   "metadata": {}
  },
  {
   "cell_type": "code",
   "execution_count": 13,
   "metadata": {},
   "outputs": [
    {
     "output_type": "stream",
     "name": "stdout",
     "text": [
      "<class 'pandas.core.frame.DataFrame'>\nInt64Index: 531285 entries, 0 to 541908\nData columns (total 8 columns):\n #   Column       Non-Null Count   Dtype         \n---  ------       --------------   -----         \n 0   InvoiceNo    531285 non-null  object        \n 1   StockCode    531285 non-null  object        \n 2   Description  530693 non-null  object        \n 3   Quantity     531285 non-null  int64         \n 4   InvoiceDate  531285 non-null  datetime64[ns]\n 5   UnitPrice    531285 non-null  float64       \n 6   CustomerID   397924 non-null  float64       \n 7   Country      531285 non-null  object        \ndtypes: datetime64[ns](1), float64(2), int64(1), object(4)\nmemory usage: 36.5+ MB\n"
     ]
    }
   ],
   "source": [
    "df.info()"
   ]
  },
  {
   "source": [
    "## Handling Nan CustomerID"
   ],
   "cell_type": "markdown",
   "metadata": {}
  },
  {
   "cell_type": "code",
   "execution_count": 14,
   "metadata": {},
   "outputs": [],
   "source": [
    "df['CustomerID'].isna().sum()\n",
    "df = df.dropna(subset=['CustomerID'])"
   ]
  },
  {
   "cell_type": "code",
   "execution_count": 15,
   "metadata": {},
   "outputs": [
    {
     "output_type": "execute_result",
     "data": {
      "text/plain": [
       "  InvoiceNo StockCode                          Description  Quantity  \\\n",
       "0    536365    85123A   WHITE HANGING HEART T-LIGHT HOLDER         6   \n",
       "1    536365     71053                  WHITE METAL LANTERN         6   \n",
       "2    536365    84406B       CREAM CUPID HEARTS COAT HANGER         8   \n",
       "3    536365    84029G  KNITTED UNION FLAG HOT WATER BOTTLE         6   \n",
       "4    536365    84029E       RED WOOLLY HOTTIE WHITE HEART.         6   \n",
       "\n",
       "          InvoiceDate  UnitPrice  CustomerID         Country  \n",
       "0 2010-12-01 08:26:00       2.55     17850.0  United Kingdom  \n",
       "1 2010-12-01 08:26:00       3.39     17850.0  United Kingdom  \n",
       "2 2010-12-01 08:26:00       2.75     17850.0  United Kingdom  \n",
       "3 2010-12-01 08:26:00       3.39     17850.0  United Kingdom  \n",
       "4 2010-12-01 08:26:00       3.39     17850.0  United Kingdom  "
      ],
      "text/html": "<div>\n<style scoped>\n    .dataframe tbody tr th:only-of-type {\n        vertical-align: middle;\n    }\n\n    .dataframe tbody tr th {\n        vertical-align: top;\n    }\n\n    .dataframe thead th {\n        text-align: right;\n    }\n</style>\n<table border=\"1\" class=\"dataframe\">\n  <thead>\n    <tr style=\"text-align: right;\">\n      <th></th>\n      <th>InvoiceNo</th>\n      <th>StockCode</th>\n      <th>Description</th>\n      <th>Quantity</th>\n      <th>InvoiceDate</th>\n      <th>UnitPrice</th>\n      <th>CustomerID</th>\n      <th>Country</th>\n    </tr>\n  </thead>\n  <tbody>\n    <tr>\n      <th>0</th>\n      <td>536365</td>\n      <td>85123A</td>\n      <td>WHITE HANGING HEART T-LIGHT HOLDER</td>\n      <td>6</td>\n      <td>2010-12-01 08:26:00</td>\n      <td>2.55</td>\n      <td>17850.0</td>\n      <td>United Kingdom</td>\n    </tr>\n    <tr>\n      <th>1</th>\n      <td>536365</td>\n      <td>71053</td>\n      <td>WHITE METAL LANTERN</td>\n      <td>6</td>\n      <td>2010-12-01 08:26:00</td>\n      <td>3.39</td>\n      <td>17850.0</td>\n      <td>United Kingdom</td>\n    </tr>\n    <tr>\n      <th>2</th>\n      <td>536365</td>\n      <td>84406B</td>\n      <td>CREAM CUPID HEARTS COAT HANGER</td>\n      <td>8</td>\n      <td>2010-12-01 08:26:00</td>\n      <td>2.75</td>\n      <td>17850.0</td>\n      <td>United Kingdom</td>\n    </tr>\n    <tr>\n      <th>3</th>\n      <td>536365</td>\n      <td>84029G</td>\n      <td>KNITTED UNION FLAG HOT WATER BOTTLE</td>\n      <td>6</td>\n      <td>2010-12-01 08:26:00</td>\n      <td>3.39</td>\n      <td>17850.0</td>\n      <td>United Kingdom</td>\n    </tr>\n    <tr>\n      <th>4</th>\n      <td>536365</td>\n      <td>84029E</td>\n      <td>RED WOOLLY HOTTIE WHITE HEART.</td>\n      <td>6</td>\n      <td>2010-12-01 08:26:00</td>\n      <td>3.39</td>\n      <td>17850.0</td>\n      <td>United Kingdom</td>\n    </tr>\n  </tbody>\n</table>\n</div>"
     },
     "metadata": {},
     "execution_count": 15
    }
   ],
   "source": [
    "df.head()"
   ]
  },
  {
   "source": [
    "## Creating the customer-item matrix"
   ],
   "cell_type": "markdown",
   "metadata": {}
  },
  {
   "cell_type": "code",
   "execution_count": 16,
   "metadata": {},
   "outputs": [],
   "source": [
    "customer_item_matrix = df.pivot_table(\n",
    "    index='CustomerID',\n",
    "    columns='StockCode',\n",
    "    values='Quantity',\n",
    "    aggfunc='sum'\n",
    ")"
   ]
  },
  {
   "cell_type": "code",
   "execution_count": 17,
   "metadata": {},
   "outputs": [
    {
     "output_type": "execute_result",
     "data": {
      "text/plain": [
       "StockCode   10002  10080  10120  10125  10133  10135  11001  15030  15034  \\\n",
       "CustomerID                                                                  \n",
       "12481.0       NaN    NaN    NaN    NaN    NaN    NaN    NaN    NaN    NaN   \n",
       "12483.0       NaN    NaN    NaN    NaN    NaN    NaN    NaN    NaN    NaN   \n",
       "12484.0       NaN    NaN    NaN    NaN    NaN    NaN   16.0    NaN    NaN   \n",
       "12488.0       NaN    NaN    NaN    NaN    NaN   10.0    NaN    NaN    NaN   \n",
       "12489.0       NaN    NaN    NaN    NaN    NaN    NaN    NaN    NaN    NaN   \n",
       "\n",
       "StockCode   15036  ...  90214V  90214W  90214Y  90214Z  BANK CHARGES  C2  DOT  \\\n",
       "CustomerID         ...                                                          \n",
       "12481.0      36.0  ...     NaN     NaN     NaN     NaN           NaN NaN  NaN   \n",
       "12483.0       NaN  ...     NaN     NaN     NaN     NaN           NaN NaN  NaN   \n",
       "12484.0       NaN  ...     NaN     NaN     NaN     NaN           NaN NaN  NaN   \n",
       "12488.0       NaN  ...     NaN     NaN     NaN     NaN           NaN NaN  NaN   \n",
       "12489.0       NaN  ...     NaN     NaN     NaN     NaN           NaN NaN  NaN   \n",
       "\n",
       "StockCode    M  PADS  POST  \n",
       "CustomerID                  \n",
       "12481.0    NaN   NaN  32.0  \n",
       "12483.0    NaN   NaN  16.0  \n",
       "12484.0    NaN   NaN  21.0  \n",
       "12488.0    NaN   NaN   3.0  \n",
       "12489.0    NaN   NaN   2.0  \n",
       "\n",
       "[5 rows x 3665 columns]"
      ],
      "text/html": "<div>\n<style scoped>\n    .dataframe tbody tr th:only-of-type {\n        vertical-align: middle;\n    }\n\n    .dataframe tbody tr th {\n        vertical-align: top;\n    }\n\n    .dataframe thead th {\n        text-align: right;\n    }\n</style>\n<table border=\"1\" class=\"dataframe\">\n  <thead>\n    <tr style=\"text-align: right;\">\n      <th>StockCode</th>\n      <th>10002</th>\n      <th>10080</th>\n      <th>10120</th>\n      <th>10125</th>\n      <th>10133</th>\n      <th>10135</th>\n      <th>11001</th>\n      <th>15030</th>\n      <th>15034</th>\n      <th>15036</th>\n      <th>...</th>\n      <th>90214V</th>\n      <th>90214W</th>\n      <th>90214Y</th>\n      <th>90214Z</th>\n      <th>BANK CHARGES</th>\n      <th>C2</th>\n      <th>DOT</th>\n      <th>M</th>\n      <th>PADS</th>\n      <th>POST</th>\n    </tr>\n    <tr>\n      <th>CustomerID</th>\n      <th></th>\n      <th></th>\n      <th></th>\n      <th></th>\n      <th></th>\n      <th></th>\n      <th></th>\n      <th></th>\n      <th></th>\n      <th></th>\n      <th></th>\n      <th></th>\n      <th></th>\n      <th></th>\n      <th></th>\n      <th></th>\n      <th></th>\n      <th></th>\n      <th></th>\n      <th></th>\n      <th></th>\n    </tr>\n  </thead>\n  <tbody>\n    <tr>\n      <th>12481.0</th>\n      <td>NaN</td>\n      <td>NaN</td>\n      <td>NaN</td>\n      <td>NaN</td>\n      <td>NaN</td>\n      <td>NaN</td>\n      <td>NaN</td>\n      <td>NaN</td>\n      <td>NaN</td>\n      <td>36.0</td>\n      <td>...</td>\n      <td>NaN</td>\n      <td>NaN</td>\n      <td>NaN</td>\n      <td>NaN</td>\n      <td>NaN</td>\n      <td>NaN</td>\n      <td>NaN</td>\n      <td>NaN</td>\n      <td>NaN</td>\n      <td>32.0</td>\n    </tr>\n    <tr>\n      <th>12483.0</th>\n      <td>NaN</td>\n      <td>NaN</td>\n      <td>NaN</td>\n      <td>NaN</td>\n      <td>NaN</td>\n      <td>NaN</td>\n      <td>NaN</td>\n      <td>NaN</td>\n      <td>NaN</td>\n      <td>NaN</td>\n      <td>...</td>\n      <td>NaN</td>\n      <td>NaN</td>\n      <td>NaN</td>\n      <td>NaN</td>\n      <td>NaN</td>\n      <td>NaN</td>\n      <td>NaN</td>\n      <td>NaN</td>\n      <td>NaN</td>\n      <td>16.0</td>\n    </tr>\n    <tr>\n      <th>12484.0</th>\n      <td>NaN</td>\n      <td>NaN</td>\n      <td>NaN</td>\n      <td>NaN</td>\n      <td>NaN</td>\n      <td>NaN</td>\n      <td>16.0</td>\n      <td>NaN</td>\n      <td>NaN</td>\n      <td>NaN</td>\n      <td>...</td>\n      <td>NaN</td>\n      <td>NaN</td>\n      <td>NaN</td>\n      <td>NaN</td>\n      <td>NaN</td>\n      <td>NaN</td>\n      <td>NaN</td>\n      <td>NaN</td>\n      <td>NaN</td>\n      <td>21.0</td>\n    </tr>\n    <tr>\n      <th>12488.0</th>\n      <td>NaN</td>\n      <td>NaN</td>\n      <td>NaN</td>\n      <td>NaN</td>\n      <td>NaN</td>\n      <td>10.0</td>\n      <td>NaN</td>\n      <td>NaN</td>\n      <td>NaN</td>\n      <td>NaN</td>\n      <td>...</td>\n      <td>NaN</td>\n      <td>NaN</td>\n      <td>NaN</td>\n      <td>NaN</td>\n      <td>NaN</td>\n      <td>NaN</td>\n      <td>NaN</td>\n      <td>NaN</td>\n      <td>NaN</td>\n      <td>3.0</td>\n    </tr>\n    <tr>\n      <th>12489.0</th>\n      <td>NaN</td>\n      <td>NaN</td>\n      <td>NaN</td>\n      <td>NaN</td>\n      <td>NaN</td>\n      <td>NaN</td>\n      <td>NaN</td>\n      <td>NaN</td>\n      <td>NaN</td>\n      <td>NaN</td>\n      <td>...</td>\n      <td>NaN</td>\n      <td>NaN</td>\n      <td>NaN</td>\n      <td>NaN</td>\n      <td>NaN</td>\n      <td>NaN</td>\n      <td>NaN</td>\n      <td>NaN</td>\n      <td>NaN</td>\n      <td>2.0</td>\n    </tr>\n  </tbody>\n</table>\n<p>5 rows × 3665 columns</p>\n</div>"
     },
     "metadata": {},
     "execution_count": 17
    }
   ],
   "source": [
    "customer_item_matrix.loc[12481:].head()"
   ]
  },
  {
   "cell_type": "code",
   "execution_count": 18,
   "metadata": {},
   "outputs": [
    {
     "output_type": "stream",
     "name": "stdout",
     "text": [
      "(4339, 3665)\n"
     ]
    }
   ],
   "source": [
    "print(customer_item_matrix.shape)\n",
    "customer_item_matrix = customer_item_matrix.applymap(lambda x: 1 if x > 0 else 0)"
   ]
  },
  {
   "source": [
    "## COLLABORATIVE FILTERING"
   ],
   "cell_type": "markdown",
   "metadata": {}
  },
  {
   "cell_type": "code",
   "execution_count": 19,
   "metadata": {},
   "outputs": [],
   "source": [
    "from sklearn.metrics.pairwise import cosine_similarity"
   ]
  },
  {
   "source": [
    "### User-based collaborative filtering"
   ],
   "cell_type": "markdown",
   "metadata": {}
  },
  {
   "cell_type": "code",
   "execution_count": 20,
   "metadata": {},
   "outputs": [
    {
     "output_type": "execute_result",
     "data": {
      "text/plain": [
       "   0         1         2         3         4         5     6         7     \\\n",
       "0   1.0  0.000000  0.000000  0.000000  0.000000  0.000000   0.0  0.000000   \n",
       "1   0.0  1.000000  0.063022  0.046130  0.047795  0.038484   0.0  0.025876   \n",
       "2   0.0  0.063022  1.000000  0.024953  0.051709  0.027756   0.0  0.027995   \n",
       "3   0.0  0.046130  0.024953  1.000000  0.056773  0.137137   0.0  0.030737   \n",
       "4   0.0  0.047795  0.051709  0.056773  1.000000  0.031575   0.0  0.000000   \n",
       "\n",
       "       8         9     ...  4329      4330      4331  4332      4333  \\\n",
       "0  0.000000  0.000000  ...   0.0  0.000000  0.000000   0.0  0.000000   \n",
       "1  0.136641  0.094742  ...   0.0  0.029709  0.052668   0.0  0.032844   \n",
       "2  0.118262  0.146427  ...   0.0  0.064282  0.113961   0.0  0.000000   \n",
       "3  0.032461  0.144692  ...   0.0  0.105868  0.000000   0.0  0.039014   \n",
       "4  0.000000  0.033315  ...   0.0  0.000000  0.000000   0.0  0.000000   \n",
       "\n",
       "       4334  4335      4336      4337      4338  \n",
       "0  0.000000   0.0  0.000000  0.000000  0.000000  \n",
       "1  0.062318   0.0  0.113776  0.109364  0.012828  \n",
       "2  0.000000   0.0  0.000000  0.170905  0.083269  \n",
       "3  0.000000   0.0  0.067574  0.137124  0.030475  \n",
       "4  0.000000   0.0  0.000000  0.044866  0.000000  \n",
       "\n",
       "[5 rows x 4339 columns]"
      ],
      "text/html": "<div>\n<style scoped>\n    .dataframe tbody tr th:only-of-type {\n        vertical-align: middle;\n    }\n\n    .dataframe tbody tr th {\n        vertical-align: top;\n    }\n\n    .dataframe thead th {\n        text-align: right;\n    }\n</style>\n<table border=\"1\" class=\"dataframe\">\n  <thead>\n    <tr style=\"text-align: right;\">\n      <th></th>\n      <th>0</th>\n      <th>1</th>\n      <th>2</th>\n      <th>3</th>\n      <th>4</th>\n      <th>5</th>\n      <th>6</th>\n      <th>7</th>\n      <th>8</th>\n      <th>9</th>\n      <th>...</th>\n      <th>4329</th>\n      <th>4330</th>\n      <th>4331</th>\n      <th>4332</th>\n      <th>4333</th>\n      <th>4334</th>\n      <th>4335</th>\n      <th>4336</th>\n      <th>4337</th>\n      <th>4338</th>\n    </tr>\n  </thead>\n  <tbody>\n    <tr>\n      <th>0</th>\n      <td>1.0</td>\n      <td>0.000000</td>\n      <td>0.000000</td>\n      <td>0.000000</td>\n      <td>0.000000</td>\n      <td>0.000000</td>\n      <td>0.0</td>\n      <td>0.000000</td>\n      <td>0.000000</td>\n      <td>0.000000</td>\n      <td>...</td>\n      <td>0.0</td>\n      <td>0.000000</td>\n      <td>0.000000</td>\n      <td>0.0</td>\n      <td>0.000000</td>\n      <td>0.000000</td>\n      <td>0.0</td>\n      <td>0.000000</td>\n      <td>0.000000</td>\n      <td>0.000000</td>\n    </tr>\n    <tr>\n      <th>1</th>\n      <td>0.0</td>\n      <td>1.000000</td>\n      <td>0.063022</td>\n      <td>0.046130</td>\n      <td>0.047795</td>\n      <td>0.038484</td>\n      <td>0.0</td>\n      <td>0.025876</td>\n      <td>0.136641</td>\n      <td>0.094742</td>\n      <td>...</td>\n      <td>0.0</td>\n      <td>0.029709</td>\n      <td>0.052668</td>\n      <td>0.0</td>\n      <td>0.032844</td>\n      <td>0.062318</td>\n      <td>0.0</td>\n      <td>0.113776</td>\n      <td>0.109364</td>\n      <td>0.012828</td>\n    </tr>\n    <tr>\n      <th>2</th>\n      <td>0.0</td>\n      <td>0.063022</td>\n      <td>1.000000</td>\n      <td>0.024953</td>\n      <td>0.051709</td>\n      <td>0.027756</td>\n      <td>0.0</td>\n      <td>0.027995</td>\n      <td>0.118262</td>\n      <td>0.146427</td>\n      <td>...</td>\n      <td>0.0</td>\n      <td>0.064282</td>\n      <td>0.113961</td>\n      <td>0.0</td>\n      <td>0.000000</td>\n      <td>0.000000</td>\n      <td>0.0</td>\n      <td>0.000000</td>\n      <td>0.170905</td>\n      <td>0.083269</td>\n    </tr>\n    <tr>\n      <th>3</th>\n      <td>0.0</td>\n      <td>0.046130</td>\n      <td>0.024953</td>\n      <td>1.000000</td>\n      <td>0.056773</td>\n      <td>0.137137</td>\n      <td>0.0</td>\n      <td>0.030737</td>\n      <td>0.032461</td>\n      <td>0.144692</td>\n      <td>...</td>\n      <td>0.0</td>\n      <td>0.105868</td>\n      <td>0.000000</td>\n      <td>0.0</td>\n      <td>0.039014</td>\n      <td>0.000000</td>\n      <td>0.0</td>\n      <td>0.067574</td>\n      <td>0.137124</td>\n      <td>0.030475</td>\n    </tr>\n    <tr>\n      <th>4</th>\n      <td>0.0</td>\n      <td>0.047795</td>\n      <td>0.051709</td>\n      <td>0.056773</td>\n      <td>1.000000</td>\n      <td>0.031575</td>\n      <td>0.0</td>\n      <td>0.000000</td>\n      <td>0.000000</td>\n      <td>0.033315</td>\n      <td>...</td>\n      <td>0.0</td>\n      <td>0.000000</td>\n      <td>0.000000</td>\n      <td>0.0</td>\n      <td>0.000000</td>\n      <td>0.000000</td>\n      <td>0.0</td>\n      <td>0.000000</td>\n      <td>0.044866</td>\n      <td>0.000000</td>\n    </tr>\n  </tbody>\n</table>\n<p>5 rows × 4339 columns</p>\n</div>"
     },
     "metadata": {},
     "execution_count": 20
    }
   ],
   "source": [
    "user_user_sim_matrix = pd.DataFrame(cosine_similarity(customer_item_matrix))\n",
    "user_user_sim_matrix.head()"
   ]
  },
  {
   "cell_type": "code",
   "execution_count": 22,
   "metadata": {},
   "outputs": [
    {
     "output_type": "execute_result",
     "data": {
      "text/plain": [
       "CustomerID  12346.0   12347.0   12348.0   12349.0   12350.0   12352.0  \\\n",
       "CustomerID                                                              \n",
       "12346.0         1.0  0.000000  0.000000  0.000000  0.000000  0.000000   \n",
       "12347.0         0.0  1.000000  0.063022  0.046130  0.047795  0.038484   \n",
       "12348.0         0.0  0.063022  1.000000  0.024953  0.051709  0.027756   \n",
       "12349.0         0.0  0.046130  0.024953  1.000000  0.056773  0.137137   \n",
       "12350.0         0.0  0.047795  0.051709  0.056773  1.000000  0.031575   \n",
       "\n",
       "CustomerID  12353.0   12354.0   12355.0   12356.0  ...  18273.0   18274.0  \\\n",
       "CustomerID                                         ...                      \n",
       "12346.0         0.0  0.000000  0.000000  0.000000  ...      0.0  0.000000   \n",
       "12347.0         0.0  0.025876  0.136641  0.094742  ...      0.0  0.029709   \n",
       "12348.0         0.0  0.027995  0.118262  0.146427  ...      0.0  0.064282   \n",
       "12349.0         0.0  0.030737  0.032461  0.144692  ...      0.0  0.105868   \n",
       "12350.0         0.0  0.000000  0.000000  0.033315  ...      0.0  0.000000   \n",
       "\n",
       "CustomerID   18276.0  18277.0   18278.0   18280.0  18281.0   18282.0  \\\n",
       "CustomerID                                                             \n",
       "12346.0     0.000000      0.0  0.000000  0.000000      0.0  0.000000   \n",
       "12347.0     0.052668      0.0  0.032844  0.062318      0.0  0.113776   \n",
       "12348.0     0.113961      0.0  0.000000  0.000000      0.0  0.000000   \n",
       "12349.0     0.000000      0.0  0.039014  0.000000      0.0  0.067574   \n",
       "12350.0     0.000000      0.0  0.000000  0.000000      0.0  0.000000   \n",
       "\n",
       "CustomerID   18283.0   18287.0  \n",
       "CustomerID                      \n",
       "12346.0     0.000000  0.000000  \n",
       "12347.0     0.109364  0.012828  \n",
       "12348.0     0.170905  0.083269  \n",
       "12349.0     0.137124  0.030475  \n",
       "12350.0     0.044866  0.000000  \n",
       "\n",
       "[5 rows x 4339 columns]"
      ],
      "text/html": "<div>\n<style scoped>\n    .dataframe tbody tr th:only-of-type {\n        vertical-align: middle;\n    }\n\n    .dataframe tbody tr th {\n        vertical-align: top;\n    }\n\n    .dataframe thead th {\n        text-align: right;\n    }\n</style>\n<table border=\"1\" class=\"dataframe\">\n  <thead>\n    <tr style=\"text-align: right;\">\n      <th>CustomerID</th>\n      <th>12346.0</th>\n      <th>12347.0</th>\n      <th>12348.0</th>\n      <th>12349.0</th>\n      <th>12350.0</th>\n      <th>12352.0</th>\n      <th>12353.0</th>\n      <th>12354.0</th>\n      <th>12355.0</th>\n      <th>12356.0</th>\n      <th>...</th>\n      <th>18273.0</th>\n      <th>18274.0</th>\n      <th>18276.0</th>\n      <th>18277.0</th>\n      <th>18278.0</th>\n      <th>18280.0</th>\n      <th>18281.0</th>\n      <th>18282.0</th>\n      <th>18283.0</th>\n      <th>18287.0</th>\n    </tr>\n    <tr>\n      <th>CustomerID</th>\n      <th></th>\n      <th></th>\n      <th></th>\n      <th></th>\n      <th></th>\n      <th></th>\n      <th></th>\n      <th></th>\n      <th></th>\n      <th></th>\n      <th></th>\n      <th></th>\n      <th></th>\n      <th></th>\n      <th></th>\n      <th></th>\n      <th></th>\n      <th></th>\n      <th></th>\n      <th></th>\n      <th></th>\n    </tr>\n  </thead>\n  <tbody>\n    <tr>\n      <th>12346.0</th>\n      <td>1.0</td>\n      <td>0.000000</td>\n      <td>0.000000</td>\n      <td>0.000000</td>\n      <td>0.000000</td>\n      <td>0.000000</td>\n      <td>0.0</td>\n      <td>0.000000</td>\n      <td>0.000000</td>\n      <td>0.000000</td>\n      <td>...</td>\n      <td>0.0</td>\n      <td>0.000000</td>\n      <td>0.000000</td>\n      <td>0.0</td>\n      <td>0.000000</td>\n      <td>0.000000</td>\n      <td>0.0</td>\n      <td>0.000000</td>\n      <td>0.000000</td>\n      <td>0.000000</td>\n    </tr>\n    <tr>\n      <th>12347.0</th>\n      <td>0.0</td>\n      <td>1.000000</td>\n      <td>0.063022</td>\n      <td>0.046130</td>\n      <td>0.047795</td>\n      <td>0.038484</td>\n      <td>0.0</td>\n      <td>0.025876</td>\n      <td>0.136641</td>\n      <td>0.094742</td>\n      <td>...</td>\n      <td>0.0</td>\n      <td>0.029709</td>\n      <td>0.052668</td>\n      <td>0.0</td>\n      <td>0.032844</td>\n      <td>0.062318</td>\n      <td>0.0</td>\n      <td>0.113776</td>\n      <td>0.109364</td>\n      <td>0.012828</td>\n    </tr>\n    <tr>\n      <th>12348.0</th>\n      <td>0.0</td>\n      <td>0.063022</td>\n      <td>1.000000</td>\n      <td>0.024953</td>\n      <td>0.051709</td>\n      <td>0.027756</td>\n      <td>0.0</td>\n      <td>0.027995</td>\n      <td>0.118262</td>\n      <td>0.146427</td>\n      <td>...</td>\n      <td>0.0</td>\n      <td>0.064282</td>\n      <td>0.113961</td>\n      <td>0.0</td>\n      <td>0.000000</td>\n      <td>0.000000</td>\n      <td>0.0</td>\n      <td>0.000000</td>\n      <td>0.170905</td>\n      <td>0.083269</td>\n    </tr>\n    <tr>\n      <th>12349.0</th>\n      <td>0.0</td>\n      <td>0.046130</td>\n      <td>0.024953</td>\n      <td>1.000000</td>\n      <td>0.056773</td>\n      <td>0.137137</td>\n      <td>0.0</td>\n      <td>0.030737</td>\n      <td>0.032461</td>\n      <td>0.144692</td>\n      <td>...</td>\n      <td>0.0</td>\n      <td>0.105868</td>\n      <td>0.000000</td>\n      <td>0.0</td>\n      <td>0.039014</td>\n      <td>0.000000</td>\n      <td>0.0</td>\n      <td>0.067574</td>\n      <td>0.137124</td>\n      <td>0.030475</td>\n    </tr>\n    <tr>\n      <th>12350.0</th>\n      <td>0.0</td>\n      <td>0.047795</td>\n      <td>0.051709</td>\n      <td>0.056773</td>\n      <td>1.000000</td>\n      <td>0.031575</td>\n      <td>0.0</td>\n      <td>0.000000</td>\n      <td>0.000000</td>\n      <td>0.033315</td>\n      <td>...</td>\n      <td>0.0</td>\n      <td>0.000000</td>\n      <td>0.000000</td>\n      <td>0.0</td>\n      <td>0.000000</td>\n      <td>0.000000</td>\n      <td>0.0</td>\n      <td>0.000000</td>\n      <td>0.044866</td>\n      <td>0.000000</td>\n    </tr>\n  </tbody>\n</table>\n<p>5 rows × 4339 columns</p>\n</div>"
     },
     "metadata": {},
     "execution_count": 22
    }
   ],
   "source": [
    "#Renaming index and column names\n",
    "\n",
    "user_user_sim_matrix.columns = customer_item_matrix.index\n",
    "\n",
    "user_user_sim_matrix['CustomerID'] = customer_item_matrix.index\n",
    "user_user_sim_matrix = user_user_sim_matrix.set_index('CustomerID')\n",
    "user_user_sim_matrix.head()"
   ]
  },
  {
   "cell_type": "code",
   "execution_count": 23,
   "metadata": {},
   "outputs": [
    {
     "output_type": "execute_result",
     "data": {
      "text/plain": [
       "CustomerID\n",
       "12350.0    1.000000\n",
       "17935.0    0.183340\n",
       "12414.0    0.181902\n",
       "12652.0    0.175035\n",
       "16692.0    0.171499\n",
       "12791.0    0.171499\n",
       "16754.0    0.171499\n",
       "12814.0    0.171499\n",
       "16426.0    0.166968\n",
       "16333.0    0.161690\n",
       "Name: 12350.0, dtype: float64"
      ]
     },
     "metadata": {},
     "execution_count": 23
    }
   ],
   "source": [
    "user_user_sim_matrix.loc[12350.0].sort_values(ascending=False).head(10)"
   ]
  },
  {
   "source": [
    "## Making Recommendations"
   ],
   "cell_type": "markdown",
   "metadata": {}
  },
  {
   "cell_type": "code",
   "execution_count": 24,
   "metadata": {},
   "outputs": [
    {
     "output_type": "stream",
     "name": "stdout",
     "text": [
      "Items Bought by A: \nStockCode\n20615     1\n20652     1\n21171     1\n21832     1\n21864     1\n21866     1\n21908     1\n21915     1\n22348     1\n22412     1\n22551     1\n22557     1\n22620     1\n79066K    1\n79191C    1\n84086C    1\nPOST      1\nName: 12350.0, dtype: int64\n"
     ]
    }
   ],
   "source": [
    "# Customer A = customer with id 12350\n",
    "user_user_sim_matrix.loc[12350.0].sort_values(ascending=False)\n",
    "items_bought_by_A = customer_item_matrix.loc[12350.0][customer_item_matrix.loc[12350.0]>0]\n",
    "print(\"Items Bought by A: \")\n",
    "print(items_bought_by_A)"
   ]
  },
  {
   "cell_type": "code",
   "execution_count": 25,
   "metadata": {},
   "outputs": [
    {
     "output_type": "stream",
     "name": "stdout",
     "text": [
      "Items bought by B:\nStockCode\n20657     1\n20659     1\n20828     1\n20856     1\n21051     1\n21866     1\n21867     1\n22208     1\n22209     1\n22210     1\n22211     1\n22449     1\n22450     1\n22551     1\n22553     1\n22557     1\n22640     1\n22659     1\n22749     1\n22752     1\n22753     1\n22754     1\n22755     1\n23290     1\n23292     1\n23309     1\n85099B    1\nPOST      1\nName: 17935.0, dtype: int64\n\nItems to Recommend to B \n{20615, 21832, 21864, 22348, 20652, 22412, '79191C', 21171, 21908, 21915, '79066K', '84086C', 22620}\n"
     ]
    },
    {
     "output_type": "execute_result",
     "data": {
      "text/plain": [
       "                               Description\n",
       "StockCode                                 \n",
       "21832                 CHOCOLATE CALCULATOR\n",
       "21915               RED  HARMONICA IN BOX \n",
       "22620          4 TRADITIONAL SPINNING TOPS\n",
       "79066K                      RETRO MOD TRAY\n",
       "21864      UNION JACK FLAG PASSPORT COVER \n",
       "79191C         RETRO PLASTIC ELEPHANT TRAY\n",
       "21908        CHOCOLATE THIS WAY METAL SIGN\n",
       "20615         BLUE POLKADOT PASSPORT COVER\n",
       "20652           BLUE POLKADOT LUGGAGE TAG \n",
       "22348          TEA BAG PLATE RED RETROSPOT\n",
       "22412      METAL SIGN NEIGHBOURHOOD WITCH \n",
       "21171                 BATHROOM METAL SIGN \n",
       "84086C             PINK/PURPLE RETRO RADIO"
      ],
      "text/html": "<div>\n<style scoped>\n    .dataframe tbody tr th:only-of-type {\n        vertical-align: middle;\n    }\n\n    .dataframe tbody tr th {\n        vertical-align: top;\n    }\n\n    .dataframe thead th {\n        text-align: right;\n    }\n</style>\n<table border=\"1\" class=\"dataframe\">\n  <thead>\n    <tr style=\"text-align: right;\">\n      <th></th>\n      <th>Description</th>\n    </tr>\n    <tr>\n      <th>StockCode</th>\n      <th></th>\n    </tr>\n  </thead>\n  <tbody>\n    <tr>\n      <th>21832</th>\n      <td>CHOCOLATE CALCULATOR</td>\n    </tr>\n    <tr>\n      <th>21915</th>\n      <td>RED  HARMONICA IN BOX</td>\n    </tr>\n    <tr>\n      <th>22620</th>\n      <td>4 TRADITIONAL SPINNING TOPS</td>\n    </tr>\n    <tr>\n      <th>79066K</th>\n      <td>RETRO MOD TRAY</td>\n    </tr>\n    <tr>\n      <th>21864</th>\n      <td>UNION JACK FLAG PASSPORT COVER</td>\n    </tr>\n    <tr>\n      <th>79191C</th>\n      <td>RETRO PLASTIC ELEPHANT TRAY</td>\n    </tr>\n    <tr>\n      <th>21908</th>\n      <td>CHOCOLATE THIS WAY METAL SIGN</td>\n    </tr>\n    <tr>\n      <th>20615</th>\n      <td>BLUE POLKADOT PASSPORT COVER</td>\n    </tr>\n    <tr>\n      <th>20652</th>\n      <td>BLUE POLKADOT LUGGAGE TAG</td>\n    </tr>\n    <tr>\n      <th>22348</th>\n      <td>TEA BAG PLATE RED RETROSPOT</td>\n    </tr>\n    <tr>\n      <th>22412</th>\n      <td>METAL SIGN NEIGHBOURHOOD WITCH</td>\n    </tr>\n    <tr>\n      <th>21171</th>\n      <td>BATHROOM METAL SIGN</td>\n    </tr>\n    <tr>\n      <th>84086C</th>\n      <td>PINK/PURPLE RETRO RADIO</td>\n    </tr>\n  </tbody>\n</table>\n</div>"
     },
     "metadata": {},
     "execution_count": 25
    }
   ],
   "source": [
    "items_bought_by_B = customer_item_matrix.loc[17935.0][customer_item_matrix.loc[17935.0]>0]\n",
    "print(\"Items bought by B:\")\n",
    "print(items_bought_by_B)\n",
    "\n",
    "print()\n",
    "\n",
    "items_to_recommend_to_B = set(items_bought_by_A.index) - set(items_bought_by_B.index)\n",
    "print(\"Items to Recommend to B \")\n",
    "print(items_to_recommend_to_B)\n",
    "df.loc[df['StockCode'].isin(items_to_recommend_to_B),['StockCode', 'Description']].drop_duplicates().set_index('StockCode')"
   ]
  },
  {
   "source": [
    "## ITEM-BASED COLLABORATIVE FILTERING"
   ],
   "cell_type": "markdown",
   "metadata": {}
  },
  {
   "cell_type": "code",
   "execution_count": 26,
   "metadata": {},
   "outputs": [],
   "source": [
    "item_item_sim_matrix = pd.DataFrame(cosine_similarity(customer_item_matrix.T))\n",
    "item_item_sim_matrix.columns = customer_item_matrix.T.index\n",
    "\n",
    "item_item_sim_matrix['StockCode'] = customer_item_matrix.T.index\n",
    "item_item_sim_matrix = item_item_sim_matrix.set_index('StockCode')"
   ]
  },
  {
   "cell_type": "code",
   "execution_count": 27,
   "metadata": {},
   "outputs": [
    {
     "output_type": "execute_result",
     "data": {
      "text/plain": [
       "StockCode     10002     10080     10120     10125     10133     10135  \\\n",
       "StockCode                                                               \n",
       "10002      1.000000  0.000000  0.094868  0.090351  0.062932  0.098907   \n",
       "10080      0.000000  1.000000  0.000000  0.032774  0.045655  0.047836   \n",
       "10120      0.094868  0.000000  1.000000  0.057143  0.059702  0.041703   \n",
       "10125      0.090351  0.032774  0.057143  1.000000  0.042644  0.044682   \n",
       "10133      0.062932  0.045655  0.059702  0.042644  1.000000  0.280097   \n",
       "...             ...       ...       ...       ...       ...       ...   \n",
       "C2         0.029361  0.000000  0.000000  0.000000  0.036955  0.019360   \n",
       "DOT        0.000000  0.000000  0.000000  0.000000  0.000000  0.104257   \n",
       "M          0.066915  0.016182  0.070535  0.070535  0.070185  0.066184   \n",
       "PADS       0.000000  0.000000  0.000000  0.000000  0.049752  0.000000   \n",
       "POST       0.078217  0.000000  0.010993  0.070669  0.021877  0.034383   \n",
       "\n",
       "StockCode     11001     15030     15034     15036  ...    90214V  90214W  \\\n",
       "StockCode                                          ...                     \n",
       "10002      0.095346  0.047673  0.075593  0.090815  ...  0.000000     0.0   \n",
       "10080      0.000000  0.000000  0.082261  0.049413  ...  0.000000     0.0   \n",
       "10120      0.060302  0.060302  0.095618  0.028718  ...  0.000000     0.0   \n",
       "10125      0.043073  0.000000  0.051224  0.030770  ...  0.000000     0.0   \n",
       "10133      0.045002  0.060003  0.071358  0.057152  ...  0.000000     0.0   \n",
       "...             ...       ...       ...       ...  ...       ...     ...   \n",
       "C2         0.055989  0.000000  0.000000  0.039996  ...  0.000000     0.0   \n",
       "DOT        0.150756  0.000000  0.000000  0.000000  ...  0.000000     0.0   \n",
       "M          0.106335  0.063801  0.059013  0.086089  ...  0.049875     0.0   \n",
       "PADS       0.000000  0.000000  0.000000  0.000000  ...  0.000000     0.0   \n",
       "POST       0.058004  0.016573  0.026278  0.051301  ...  0.038866     0.0   \n",
       "\n",
       "StockCode    90214Y  90214Z  BANK CHARGES        C2  DOT         M      PADS  \\\n",
       "StockCode                                                                      \n",
       "10002      0.000000     0.0      0.000000  0.029361  0.0  0.066915  0.000000   \n",
       "10080      0.000000     0.0      0.000000  0.000000  0.0  0.016182  0.000000   \n",
       "10120      0.000000     0.0      0.000000  0.000000  0.0  0.070535  0.000000   \n",
       "10125      0.000000     0.0      0.000000  0.000000  0.0  0.070535  0.000000   \n",
       "10133      0.000000     0.0      0.000000  0.036955  0.0  0.070185  0.049752   \n",
       "...             ...     ...           ...       ...  ...       ...       ...   \n",
       "C2         0.000000     0.0      0.000000  1.000000  0.0  0.026196  0.000000   \n",
       "DOT        0.000000     0.0      0.000000  0.000000  1.0  0.000000  0.000000   \n",
       "M          0.040723     0.0      0.089220  0.026196  0.0  1.000000  0.000000   \n",
       "PADS       0.000000     0.0      0.000000  0.000000  0.0  0.000000  1.000000   \n",
       "POST       0.031734     0.0      0.017381  0.020413  0.0  0.077539  0.000000   \n",
       "\n",
       "StockCode      POST  \n",
       "StockCode            \n",
       "10002      0.078217  \n",
       "10080      0.000000  \n",
       "10120      0.010993  \n",
       "10125      0.070669  \n",
       "10133      0.021877  \n",
       "...             ...  \n",
       "C2         0.020413  \n",
       "DOT        0.000000  \n",
       "M          0.077539  \n",
       "PADS       0.000000  \n",
       "POST       1.000000  \n",
       "\n",
       "[3665 rows x 3665 columns]"
      ],
      "text/html": "<div>\n<style scoped>\n    .dataframe tbody tr th:only-of-type {\n        vertical-align: middle;\n    }\n\n    .dataframe tbody tr th {\n        vertical-align: top;\n    }\n\n    .dataframe thead th {\n        text-align: right;\n    }\n</style>\n<table border=\"1\" class=\"dataframe\">\n  <thead>\n    <tr style=\"text-align: right;\">\n      <th>StockCode</th>\n      <th>10002</th>\n      <th>10080</th>\n      <th>10120</th>\n      <th>10125</th>\n      <th>10133</th>\n      <th>10135</th>\n      <th>11001</th>\n      <th>15030</th>\n      <th>15034</th>\n      <th>15036</th>\n      <th>...</th>\n      <th>90214V</th>\n      <th>90214W</th>\n      <th>90214Y</th>\n      <th>90214Z</th>\n      <th>BANK CHARGES</th>\n      <th>C2</th>\n      <th>DOT</th>\n      <th>M</th>\n      <th>PADS</th>\n      <th>POST</th>\n    </tr>\n    <tr>\n      <th>StockCode</th>\n      <th></th>\n      <th></th>\n      <th></th>\n      <th></th>\n      <th></th>\n      <th></th>\n      <th></th>\n      <th></th>\n      <th></th>\n      <th></th>\n      <th></th>\n      <th></th>\n      <th></th>\n      <th></th>\n      <th></th>\n      <th></th>\n      <th></th>\n      <th></th>\n      <th></th>\n      <th></th>\n      <th></th>\n    </tr>\n  </thead>\n  <tbody>\n    <tr>\n      <th>10002</th>\n      <td>1.000000</td>\n      <td>0.000000</td>\n      <td>0.094868</td>\n      <td>0.090351</td>\n      <td>0.062932</td>\n      <td>0.098907</td>\n      <td>0.095346</td>\n      <td>0.047673</td>\n      <td>0.075593</td>\n      <td>0.090815</td>\n      <td>...</td>\n      <td>0.000000</td>\n      <td>0.0</td>\n      <td>0.000000</td>\n      <td>0.0</td>\n      <td>0.000000</td>\n      <td>0.029361</td>\n      <td>0.0</td>\n      <td>0.066915</td>\n      <td>0.000000</td>\n      <td>0.078217</td>\n    </tr>\n    <tr>\n      <th>10080</th>\n      <td>0.000000</td>\n      <td>1.000000</td>\n      <td>0.000000</td>\n      <td>0.032774</td>\n      <td>0.045655</td>\n      <td>0.047836</td>\n      <td>0.000000</td>\n      <td>0.000000</td>\n      <td>0.082261</td>\n      <td>0.049413</td>\n      <td>...</td>\n      <td>0.000000</td>\n      <td>0.0</td>\n      <td>0.000000</td>\n      <td>0.0</td>\n      <td>0.000000</td>\n      <td>0.000000</td>\n      <td>0.0</td>\n      <td>0.016182</td>\n      <td>0.000000</td>\n      <td>0.000000</td>\n    </tr>\n    <tr>\n      <th>10120</th>\n      <td>0.094868</td>\n      <td>0.000000</td>\n      <td>1.000000</td>\n      <td>0.057143</td>\n      <td>0.059702</td>\n      <td>0.041703</td>\n      <td>0.060302</td>\n      <td>0.060302</td>\n      <td>0.095618</td>\n      <td>0.028718</td>\n      <td>...</td>\n      <td>0.000000</td>\n      <td>0.0</td>\n      <td>0.000000</td>\n      <td>0.0</td>\n      <td>0.000000</td>\n      <td>0.000000</td>\n      <td>0.0</td>\n      <td>0.070535</td>\n      <td>0.000000</td>\n      <td>0.010993</td>\n    </tr>\n    <tr>\n      <th>10125</th>\n      <td>0.090351</td>\n      <td>0.032774</td>\n      <td>0.057143</td>\n      <td>1.000000</td>\n      <td>0.042644</td>\n      <td>0.044682</td>\n      <td>0.043073</td>\n      <td>0.000000</td>\n      <td>0.051224</td>\n      <td>0.030770</td>\n      <td>...</td>\n      <td>0.000000</td>\n      <td>0.0</td>\n      <td>0.000000</td>\n      <td>0.0</td>\n      <td>0.000000</td>\n      <td>0.000000</td>\n      <td>0.0</td>\n      <td>0.070535</td>\n      <td>0.000000</td>\n      <td>0.070669</td>\n    </tr>\n    <tr>\n      <th>10133</th>\n      <td>0.062932</td>\n      <td>0.045655</td>\n      <td>0.059702</td>\n      <td>0.042644</td>\n      <td>1.000000</td>\n      <td>0.280097</td>\n      <td>0.045002</td>\n      <td>0.060003</td>\n      <td>0.071358</td>\n      <td>0.057152</td>\n      <td>...</td>\n      <td>0.000000</td>\n      <td>0.0</td>\n      <td>0.000000</td>\n      <td>0.0</td>\n      <td>0.000000</td>\n      <td>0.036955</td>\n      <td>0.0</td>\n      <td>0.070185</td>\n      <td>0.049752</td>\n      <td>0.021877</td>\n    </tr>\n    <tr>\n      <th>...</th>\n      <td>...</td>\n      <td>...</td>\n      <td>...</td>\n      <td>...</td>\n      <td>...</td>\n      <td>...</td>\n      <td>...</td>\n      <td>...</td>\n      <td>...</td>\n      <td>...</td>\n      <td>...</td>\n      <td>...</td>\n      <td>...</td>\n      <td>...</td>\n      <td>...</td>\n      <td>...</td>\n      <td>...</td>\n      <td>...</td>\n      <td>...</td>\n      <td>...</td>\n      <td>...</td>\n    </tr>\n    <tr>\n      <th>C2</th>\n      <td>0.029361</td>\n      <td>0.000000</td>\n      <td>0.000000</td>\n      <td>0.000000</td>\n      <td>0.036955</td>\n      <td>0.019360</td>\n      <td>0.055989</td>\n      <td>0.000000</td>\n      <td>0.000000</td>\n      <td>0.039996</td>\n      <td>...</td>\n      <td>0.000000</td>\n      <td>0.0</td>\n      <td>0.000000</td>\n      <td>0.0</td>\n      <td>0.000000</td>\n      <td>1.000000</td>\n      <td>0.0</td>\n      <td>0.026196</td>\n      <td>0.000000</td>\n      <td>0.020413</td>\n    </tr>\n    <tr>\n      <th>DOT</th>\n      <td>0.000000</td>\n      <td>0.000000</td>\n      <td>0.000000</td>\n      <td>0.000000</td>\n      <td>0.000000</td>\n      <td>0.104257</td>\n      <td>0.150756</td>\n      <td>0.000000</td>\n      <td>0.000000</td>\n      <td>0.000000</td>\n      <td>...</td>\n      <td>0.000000</td>\n      <td>0.0</td>\n      <td>0.000000</td>\n      <td>0.0</td>\n      <td>0.000000</td>\n      <td>0.000000</td>\n      <td>1.0</td>\n      <td>0.000000</td>\n      <td>0.000000</td>\n      <td>0.000000</td>\n    </tr>\n    <tr>\n      <th>M</th>\n      <td>0.066915</td>\n      <td>0.016182</td>\n      <td>0.070535</td>\n      <td>0.070535</td>\n      <td>0.070185</td>\n      <td>0.066184</td>\n      <td>0.106335</td>\n      <td>0.063801</td>\n      <td>0.059013</td>\n      <td>0.086089</td>\n      <td>...</td>\n      <td>0.049875</td>\n      <td>0.0</td>\n      <td>0.040723</td>\n      <td>0.0</td>\n      <td>0.089220</td>\n      <td>0.026196</td>\n      <td>0.0</td>\n      <td>1.000000</td>\n      <td>0.000000</td>\n      <td>0.077539</td>\n    </tr>\n    <tr>\n      <th>PADS</th>\n      <td>0.000000</td>\n      <td>0.000000</td>\n      <td>0.000000</td>\n      <td>0.000000</td>\n      <td>0.049752</td>\n      <td>0.000000</td>\n      <td>0.000000</td>\n      <td>0.000000</td>\n      <td>0.000000</td>\n      <td>0.000000</td>\n      <td>...</td>\n      <td>0.000000</td>\n      <td>0.0</td>\n      <td>0.000000</td>\n      <td>0.0</td>\n      <td>0.000000</td>\n      <td>0.000000</td>\n      <td>0.0</td>\n      <td>0.000000</td>\n      <td>1.000000</td>\n      <td>0.000000</td>\n    </tr>\n    <tr>\n      <th>POST</th>\n      <td>0.078217</td>\n      <td>0.000000</td>\n      <td>0.010993</td>\n      <td>0.070669</td>\n      <td>0.021877</td>\n      <td>0.034383</td>\n      <td>0.058004</td>\n      <td>0.016573</td>\n      <td>0.026278</td>\n      <td>0.051301</td>\n      <td>...</td>\n      <td>0.038866</td>\n      <td>0.0</td>\n      <td>0.031734</td>\n      <td>0.0</td>\n      <td>0.017381</td>\n      <td>0.020413</td>\n      <td>0.0</td>\n      <td>0.077539</td>\n      <td>0.000000</td>\n      <td>1.000000</td>\n    </tr>\n  </tbody>\n</table>\n<p>3665 rows × 3665 columns</p>\n</div>"
     },
     "metadata": {},
     "execution_count": 27
    }
   ],
   "source": [
    "item_item_sim_matrix"
   ]
  },
  {
   "source": [
    "### Making Recommendations"
   ],
   "cell_type": "markdown",
   "metadata": {}
  },
  {
   "cell_type": "code",
   "execution_count": 28,
   "metadata": {},
   "outputs": [
    {
     "output_type": "stream",
     "name": "stdout",
     "text": [
      "[23166, 23165, 23167, 22993, 23307, 22722, 22720, 22666, 23243, 22961]\n\n                                   Description\nStockCode                                     \n23166           MEDIUM CERAMIC TOP STORAGE JAR\n23165            LARGE CERAMIC TOP STORAGE JAR\n23167           SMALL CERAMIC TOP STORAGE JAR \n22993             SET OF 4 PANTRY JELLY MOULDS\n23307      SET OF 60 PANTRY DESIGN CAKE CASES \n22722        SET OF 6 SPICE TINS PANTRY DESIGN\n22720        SET OF 3 CAKE TINS PANTRY DESIGN \n22666          RECIPE BOX PANTRY YELLOW DESIGN\n23243      SET OF TEA COFFEE SUGAR TINS PANTRY\n22961                   JAM MAKING SET PRINTED\n"
     ]
    }
   ],
   "source": [
    "top_10_similar_items = list(item_item_sim_matrix.loc[23166].sort_values(ascending=False).iloc[:10].index)\n",
    "\n",
    "print(top_10_similar_items)\n",
    "print()\n",
    "print(df.loc[\n",
    "    df['StockCode'].isin(top_10_similar_items),\n",
    "    ['StockCode', 'Description']\n",
    "].drop_duplicates().set_index('StockCode').loc[top_10_similar_items])"
   ]
  },
  {
   "cell_type": "code",
   "execution_count": null,
   "metadata": {},
   "outputs": [],
   "source": []
  }
 ]
}